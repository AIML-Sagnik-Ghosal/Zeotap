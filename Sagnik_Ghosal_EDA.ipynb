{
  "metadata": {
    "kernelspec": {
      "name": "python",
      "display_name": "Python (Pyodide)",
      "language": "python"
    },
    "language_info": {
      "codemirror_mode": {
        "name": "python",
        "version": 3
      },
      "file_extension": ".py",
      "mimetype": "text/x-python",
      "name": "python",
      "nbconvert_exporter": "python",
      "pygments_lexer": "ipython3",
      "version": "3.8"
    }
  },
  "nbformat_minor": 5,
  "nbformat": 4,
  "cells": [
    {
      "id": "fa937fa1-f4f2-4b82-b632-acb5740de1c5",
      "cell_type": "markdown",
      "source": "# Import modules",
      "metadata": {}
    },
    {
      "id": "11756380-af0e-4df2-a566-0261eef1eb27",
      "cell_type": "code",
      "source": "import pandas as pd\nimport seaborn as sns\nimport matplotlib.pyplot as plt",
      "metadata": {
        "trusted": true
      },
      "outputs": [
        {
          "ename": "<class 'ModuleNotFoundError'>",
          "evalue": "No module named 'seaborn'",
          "traceback": [
            "\u001b[0;31m---------------------------------------------------------------------------\u001b[0m",
            "\u001b[0;31mModuleNotFoundError\u001b[0m                       Traceback (most recent call last)",
            "Cell \u001b[0;32mIn[1], line 2\u001b[0m\n\u001b[1;32m      1\u001b[0m \u001b[38;5;28;01mimport\u001b[39;00m \u001b[38;5;21;01mpandas\u001b[39;00m \u001b[38;5;28;01mas\u001b[39;00m \u001b[38;5;21;01mpd\u001b[39;00m\n\u001b[0;32m----> 2\u001b[0m \u001b[38;5;28;01mimport\u001b[39;00m \u001b[38;5;21;01mseaborn\u001b[39;00m \u001b[38;5;28;01mas\u001b[39;00m \u001b[38;5;21;01msns\u001b[39;00m\n\u001b[1;32m      3\u001b[0m \u001b[38;5;28;01mimport\u001b[39;00m \u001b[38;5;21;01mmatplotlib\u001b[39;00m\u001b[38;5;21;01m.\u001b[39;00m\u001b[38;5;21;01mpyplot\u001b[39;00m \u001b[38;5;28;01mas\u001b[39;00m \u001b[38;5;21;01mplt\u001b[39;00m\n",
            "\u001b[0;31mModuleNotFoundError\u001b[0m: No module named 'seaborn'"
          ],
          "output_type": "error"
        }
      ],
      "execution_count": 1
    },
    {
      "id": "d820da55-c732-4811-9927-f3aaf5e26328",
      "cell_type": "markdown",
      "source": "# Load CSV files and apply preprocessing to merge all of them then create additional columns",
      "metadata": {}
    },
    {
      "id": "a527caa3-fb06-4540-9449-bb516a74131e",
      "cell_type": "code",
      "source": "cus=pd.read_csv(\"Customers.csv\")\nprod=pd.read_csv(\"Products.csv\")\ntran=pd.read_csv(\"Transactions.csv\")\ndf=tran.merge(cus,on=\"CustomerID\",suffixes=[\"_Tran\",\"_Cus\"]).merge(prod,on=\"ProductID\",suffixes=[\"_Tran\",\"_Prod\"])\nprint(df)\n#df.to_csv(\"C:\\\\Users\\SAGNIK GHOSHAL\\Downloads\\\\Bussiness.csv\")\ndf[\"TransactionDay\"]=[int(i.split()[0].split('-')[2]) for i in df[\"TransactionDate\"]]\ndf[\"TransactionMonth\"]=[int(i.split()[0].split('-')[1]) for i in df[\"TransactionDate\"]]\ndf[\"TransactionYear\"]=[int(i.split()[0].split('-')[0]) for i in df[\"TransactionDate\"]]\ndf[\"TransactionTime\"]=[int(i.split()[1].split(':')[0]) for i in df[\"TransactionDate\"]]\ndf[\"SignupDay\"]=[int(i.split()[0].split('-')[2]) for i in df[\"SignupDate\"]]\ndf[\"SignupMonth\"]=[int(i.split()[0].split('-')[1]) for i in df[\"SignupDate\"]]\ndf[\"SignupYear\"]=[int(i.split()[0].split('-')[0]) for i in df[\"SignupDate\"]]",
      "metadata": {
        "trusted": true
      },
      "outputs": [
        {
          "name": "stderr",
          "output_type": "stream",
          "text": "<unknown>:1: SyntaxWarning: invalid escape sequence '\\S'\n<unknown>:2: SyntaxWarning: invalid escape sequence '\\S'\n<unknown>:3: SyntaxWarning: invalid escape sequence '\\S'\n<>:1: SyntaxWarning: invalid escape sequence '\\S'\n<>:2: SyntaxWarning: invalid escape sequence '\\S'\n<>:3: SyntaxWarning: invalid escape sequence '\\S'\n<>:1: SyntaxWarning: invalid escape sequence '\\S'\n<>:2: SyntaxWarning: invalid escape sequence '\\S'\n<>:3: SyntaxWarning: invalid escape sequence '\\S'\n<ipython-input-2-4e0c04e03b1c>:1: SyntaxWarning: invalid escape sequence '\\S'\n  cus=pd.read_csv(\"C:\\\\Users\\SAGNIK GHOSHAL\\Downloads\\\\Customers.csv\")\n<ipython-input-2-4e0c04e03b1c>:2: SyntaxWarning: invalid escape sequence '\\S'\n  prod=pd.read_csv(\"C:\\\\Users\\SAGNIK GHOSHAL\\Downloads\\\\Products.csv\")\n<ipython-input-2-4e0c04e03b1c>:3: SyntaxWarning: invalid escape sequence '\\S'\n  tran=pd.read_csv(\"C:\\\\Users\\SAGNIK GHOSHAL\\Downloads\\\\Transactions.csv\")\n<ipython-input-2-4e0c04e03b1c>:1: SyntaxWarning: invalid escape sequence '\\S'\n  cus=pd.read_csv(\"C:\\\\Users\\SAGNIK GHOSHAL\\Downloads\\\\Customers.csv\")\n<ipython-input-2-4e0c04e03b1c>:2: SyntaxWarning: invalid escape sequence '\\S'\n  prod=pd.read_csv(\"C:\\\\Users\\SAGNIK GHOSHAL\\Downloads\\\\Products.csv\")\n<ipython-input-2-4e0c04e03b1c>:3: SyntaxWarning: invalid escape sequence '\\S'\n  tran=pd.read_csv(\"C:\\\\Users\\SAGNIK GHOSHAL\\Downloads\\\\Transactions.csv\")\n"
        },
        {
          "ename": "<class 'FileNotFoundError'>",
          "evalue": "[Errno 44] No such file or directory: 'C:\\\\Users\\\\SAGNIK GHOSHAL\\\\Downloads\\\\Customers.csv'",
          "traceback": [
            "\u001b[0;31m---------------------------------------------------------------------------\u001b[0m",
            "\u001b[0;31mFileNotFoundError\u001b[0m                         Traceback (most recent call last)",
            "Cell \u001b[0;32mIn[2], line 1\u001b[0m\n\u001b[0;32m----> 1\u001b[0m cus\u001b[38;5;241m=\u001b[39m\u001b[43mpd\u001b[49m\u001b[38;5;241;43m.\u001b[39;49m\u001b[43mread_csv\u001b[49m\u001b[43m(\u001b[49m\u001b[38;5;124;43m\"\u001b[39;49m\u001b[38;5;124;43mC:\u001b[39;49m\u001b[38;5;130;43;01m\\\\\u001b[39;49;00m\u001b[38;5;124;43mUsers\u001b[39;49m\u001b[38;5;124;43m\\\u001b[39;49m\u001b[38;5;124;43mSAGNIK GHOSHAL\u001b[39;49m\u001b[38;5;124;43m\\\u001b[39;49m\u001b[38;5;124;43mDownloads\u001b[39;49m\u001b[38;5;130;43;01m\\\\\u001b[39;49;00m\u001b[38;5;124;43mCustomers.csv\u001b[39;49m\u001b[38;5;124;43m\"\u001b[39;49m\u001b[43m)\u001b[49m\n\u001b[1;32m      2\u001b[0m prod\u001b[38;5;241m=\u001b[39mpd\u001b[38;5;241m.\u001b[39mread_csv(\u001b[38;5;124m\"\u001b[39m\u001b[38;5;124mC:\u001b[39m\u001b[38;5;130;01m\\\\\u001b[39;00m\u001b[38;5;124mUsers\u001b[39m\u001b[38;5;124m\\\u001b[39m\u001b[38;5;124mSAGNIK GHOSHAL\u001b[39m\u001b[38;5;124m\\\u001b[39m\u001b[38;5;124mDownloads\u001b[39m\u001b[38;5;130;01m\\\\\u001b[39;00m\u001b[38;5;124mProducts.csv\u001b[39m\u001b[38;5;124m\"\u001b[39m)\n\u001b[1;32m      3\u001b[0m tran\u001b[38;5;241m=\u001b[39mpd\u001b[38;5;241m.\u001b[39mread_csv(\u001b[38;5;124m\"\u001b[39m\u001b[38;5;124mC:\u001b[39m\u001b[38;5;130;01m\\\\\u001b[39;00m\u001b[38;5;124mUsers\u001b[39m\u001b[38;5;124m\\\u001b[39m\u001b[38;5;124mSAGNIK GHOSHAL\u001b[39m\u001b[38;5;124m\\\u001b[39m\u001b[38;5;124mDownloads\u001b[39m\u001b[38;5;130;01m\\\\\u001b[39;00m\u001b[38;5;124mTransactions.csv\u001b[39m\u001b[38;5;124m\"\u001b[39m)\n",
            "File \u001b[0;32m/lib/python3.12/site-packages/pandas/io/parsers/readers.py:1026\u001b[0m, in \u001b[0;36mread_csv\u001b[0;34m(filepath_or_buffer, sep, delimiter, header, names, index_col, usecols, dtype, engine, converters, true_values, false_values, skipinitialspace, skiprows, skipfooter, nrows, na_values, keep_default_na, na_filter, verbose, skip_blank_lines, parse_dates, infer_datetime_format, keep_date_col, date_parser, date_format, dayfirst, cache_dates, iterator, chunksize, compression, thousands, decimal, lineterminator, quotechar, quoting, doublequote, escapechar, comment, encoding, encoding_errors, dialect, on_bad_lines, delim_whitespace, low_memory, memory_map, float_precision, storage_options, dtype_backend)\u001b[0m\n\u001b[1;32m   1013\u001b[0m kwds_defaults \u001b[38;5;241m=\u001b[39m _refine_defaults_read(\n\u001b[1;32m   1014\u001b[0m     dialect,\n\u001b[1;32m   1015\u001b[0m     delimiter,\n\u001b[0;32m   (...)\u001b[0m\n\u001b[1;32m   1022\u001b[0m     dtype_backend\u001b[38;5;241m=\u001b[39mdtype_backend,\n\u001b[1;32m   1023\u001b[0m )\n\u001b[1;32m   1024\u001b[0m kwds\u001b[38;5;241m.\u001b[39mupdate(kwds_defaults)\n\u001b[0;32m-> 1026\u001b[0m \u001b[38;5;28;01mreturn\u001b[39;00m \u001b[43m_read\u001b[49m\u001b[43m(\u001b[49m\u001b[43mfilepath_or_buffer\u001b[49m\u001b[43m,\u001b[49m\u001b[43m \u001b[49m\u001b[43mkwds\u001b[49m\u001b[43m)\u001b[49m\n",
            "File \u001b[0;32m/lib/python3.12/site-packages/pandas/io/parsers/readers.py:620\u001b[0m, in \u001b[0;36m_read\u001b[0;34m(filepath_or_buffer, kwds)\u001b[0m\n\u001b[1;32m    617\u001b[0m _validate_names(kwds\u001b[38;5;241m.\u001b[39mget(\u001b[38;5;124m\"\u001b[39m\u001b[38;5;124mnames\u001b[39m\u001b[38;5;124m\"\u001b[39m, \u001b[38;5;28;01mNone\u001b[39;00m))\n\u001b[1;32m    619\u001b[0m \u001b[38;5;66;03m# Create the parser.\u001b[39;00m\n\u001b[0;32m--> 620\u001b[0m parser \u001b[38;5;241m=\u001b[39m \u001b[43mTextFileReader\u001b[49m\u001b[43m(\u001b[49m\u001b[43mfilepath_or_buffer\u001b[49m\u001b[43m,\u001b[49m\u001b[43m \u001b[49m\u001b[38;5;241;43m*\u001b[39;49m\u001b[38;5;241;43m*\u001b[39;49m\u001b[43mkwds\u001b[49m\u001b[43m)\u001b[49m\n\u001b[1;32m    622\u001b[0m \u001b[38;5;28;01mif\u001b[39;00m chunksize \u001b[38;5;129;01mor\u001b[39;00m iterator:\n\u001b[1;32m    623\u001b[0m     \u001b[38;5;28;01mreturn\u001b[39;00m parser\n",
            "File \u001b[0;32m/lib/python3.12/site-packages/pandas/io/parsers/readers.py:1620\u001b[0m, in \u001b[0;36mTextFileReader.__init__\u001b[0;34m(self, f, engine, **kwds)\u001b[0m\n\u001b[1;32m   1617\u001b[0m     \u001b[38;5;28mself\u001b[39m\u001b[38;5;241m.\u001b[39moptions[\u001b[38;5;124m\"\u001b[39m\u001b[38;5;124mhas_index_names\u001b[39m\u001b[38;5;124m\"\u001b[39m] \u001b[38;5;241m=\u001b[39m kwds[\u001b[38;5;124m\"\u001b[39m\u001b[38;5;124mhas_index_names\u001b[39m\u001b[38;5;124m\"\u001b[39m]\n\u001b[1;32m   1619\u001b[0m \u001b[38;5;28mself\u001b[39m\u001b[38;5;241m.\u001b[39mhandles: IOHandles \u001b[38;5;241m|\u001b[39m \u001b[38;5;28;01mNone\u001b[39;00m \u001b[38;5;241m=\u001b[39m \u001b[38;5;28;01mNone\u001b[39;00m\n\u001b[0;32m-> 1620\u001b[0m \u001b[38;5;28mself\u001b[39m\u001b[38;5;241m.\u001b[39m_engine \u001b[38;5;241m=\u001b[39m \u001b[38;5;28;43mself\u001b[39;49m\u001b[38;5;241;43m.\u001b[39;49m\u001b[43m_make_engine\u001b[49m\u001b[43m(\u001b[49m\u001b[43mf\u001b[49m\u001b[43m,\u001b[49m\u001b[43m \u001b[49m\u001b[38;5;28;43mself\u001b[39;49m\u001b[38;5;241;43m.\u001b[39;49m\u001b[43mengine\u001b[49m\u001b[43m)\u001b[49m\n",
            "File \u001b[0;32m/lib/python3.12/site-packages/pandas/io/parsers/readers.py:1880\u001b[0m, in \u001b[0;36mTextFileReader._make_engine\u001b[0;34m(self, f, engine)\u001b[0m\n\u001b[1;32m   1878\u001b[0m     \u001b[38;5;28;01mif\u001b[39;00m \u001b[38;5;124m\"\u001b[39m\u001b[38;5;124mb\u001b[39m\u001b[38;5;124m\"\u001b[39m \u001b[38;5;129;01mnot\u001b[39;00m \u001b[38;5;129;01min\u001b[39;00m mode:\n\u001b[1;32m   1879\u001b[0m         mode \u001b[38;5;241m+\u001b[39m\u001b[38;5;241m=\u001b[39m \u001b[38;5;124m\"\u001b[39m\u001b[38;5;124mb\u001b[39m\u001b[38;5;124m\"\u001b[39m\n\u001b[0;32m-> 1880\u001b[0m \u001b[38;5;28mself\u001b[39m\u001b[38;5;241m.\u001b[39mhandles \u001b[38;5;241m=\u001b[39m \u001b[43mget_handle\u001b[49m\u001b[43m(\u001b[49m\n\u001b[1;32m   1881\u001b[0m \u001b[43m    \u001b[49m\u001b[43mf\u001b[49m\u001b[43m,\u001b[49m\n\u001b[1;32m   1882\u001b[0m \u001b[43m    \u001b[49m\u001b[43mmode\u001b[49m\u001b[43m,\u001b[49m\n\u001b[1;32m   1883\u001b[0m \u001b[43m    \u001b[49m\u001b[43mencoding\u001b[49m\u001b[38;5;241;43m=\u001b[39;49m\u001b[38;5;28;43mself\u001b[39;49m\u001b[38;5;241;43m.\u001b[39;49m\u001b[43moptions\u001b[49m\u001b[38;5;241;43m.\u001b[39;49m\u001b[43mget\u001b[49m\u001b[43m(\u001b[49m\u001b[38;5;124;43m\"\u001b[39;49m\u001b[38;5;124;43mencoding\u001b[39;49m\u001b[38;5;124;43m\"\u001b[39;49m\u001b[43m,\u001b[49m\u001b[43m \u001b[49m\u001b[38;5;28;43;01mNone\u001b[39;49;00m\u001b[43m)\u001b[49m\u001b[43m,\u001b[49m\n\u001b[1;32m   1884\u001b[0m \u001b[43m    \u001b[49m\u001b[43mcompression\u001b[49m\u001b[38;5;241;43m=\u001b[39;49m\u001b[38;5;28;43mself\u001b[39;49m\u001b[38;5;241;43m.\u001b[39;49m\u001b[43moptions\u001b[49m\u001b[38;5;241;43m.\u001b[39;49m\u001b[43mget\u001b[49m\u001b[43m(\u001b[49m\u001b[38;5;124;43m\"\u001b[39;49m\u001b[38;5;124;43mcompression\u001b[39;49m\u001b[38;5;124;43m\"\u001b[39;49m\u001b[43m,\u001b[49m\u001b[43m \u001b[49m\u001b[38;5;28;43;01mNone\u001b[39;49;00m\u001b[43m)\u001b[49m\u001b[43m,\u001b[49m\n\u001b[1;32m   1885\u001b[0m \u001b[43m    \u001b[49m\u001b[43mmemory_map\u001b[49m\u001b[38;5;241;43m=\u001b[39;49m\u001b[38;5;28;43mself\u001b[39;49m\u001b[38;5;241;43m.\u001b[39;49m\u001b[43moptions\u001b[49m\u001b[38;5;241;43m.\u001b[39;49m\u001b[43mget\u001b[49m\u001b[43m(\u001b[49m\u001b[38;5;124;43m\"\u001b[39;49m\u001b[38;5;124;43mmemory_map\u001b[39;49m\u001b[38;5;124;43m\"\u001b[39;49m\u001b[43m,\u001b[49m\u001b[43m \u001b[49m\u001b[38;5;28;43;01mFalse\u001b[39;49;00m\u001b[43m)\u001b[49m\u001b[43m,\u001b[49m\n\u001b[1;32m   1886\u001b[0m \u001b[43m    \u001b[49m\u001b[43mis_text\u001b[49m\u001b[38;5;241;43m=\u001b[39;49m\u001b[43mis_text\u001b[49m\u001b[43m,\u001b[49m\n\u001b[1;32m   1887\u001b[0m \u001b[43m    \u001b[49m\u001b[43merrors\u001b[49m\u001b[38;5;241;43m=\u001b[39;49m\u001b[38;5;28;43mself\u001b[39;49m\u001b[38;5;241;43m.\u001b[39;49m\u001b[43moptions\u001b[49m\u001b[38;5;241;43m.\u001b[39;49m\u001b[43mget\u001b[49m\u001b[43m(\u001b[49m\u001b[38;5;124;43m\"\u001b[39;49m\u001b[38;5;124;43mencoding_errors\u001b[39;49m\u001b[38;5;124;43m\"\u001b[39;49m\u001b[43m,\u001b[49m\u001b[43m \u001b[49m\u001b[38;5;124;43m\"\u001b[39;49m\u001b[38;5;124;43mstrict\u001b[39;49m\u001b[38;5;124;43m\"\u001b[39;49m\u001b[43m)\u001b[49m\u001b[43m,\u001b[49m\n\u001b[1;32m   1888\u001b[0m \u001b[43m    \u001b[49m\u001b[43mstorage_options\u001b[49m\u001b[38;5;241;43m=\u001b[39;49m\u001b[38;5;28;43mself\u001b[39;49m\u001b[38;5;241;43m.\u001b[39;49m\u001b[43moptions\u001b[49m\u001b[38;5;241;43m.\u001b[39;49m\u001b[43mget\u001b[49m\u001b[43m(\u001b[49m\u001b[38;5;124;43m\"\u001b[39;49m\u001b[38;5;124;43mstorage_options\u001b[39;49m\u001b[38;5;124;43m\"\u001b[39;49m\u001b[43m,\u001b[49m\u001b[43m \u001b[49m\u001b[38;5;28;43;01mNone\u001b[39;49;00m\u001b[43m)\u001b[49m\u001b[43m,\u001b[49m\n\u001b[1;32m   1889\u001b[0m \u001b[43m\u001b[49m\u001b[43m)\u001b[49m\n\u001b[1;32m   1890\u001b[0m \u001b[38;5;28;01massert\u001b[39;00m \u001b[38;5;28mself\u001b[39m\u001b[38;5;241m.\u001b[39mhandles \u001b[38;5;129;01mis\u001b[39;00m \u001b[38;5;129;01mnot\u001b[39;00m \u001b[38;5;28;01mNone\u001b[39;00m\n\u001b[1;32m   1891\u001b[0m f \u001b[38;5;241m=\u001b[39m \u001b[38;5;28mself\u001b[39m\u001b[38;5;241m.\u001b[39mhandles\u001b[38;5;241m.\u001b[39mhandle\n",
            "File \u001b[0;32m/lib/python3.12/site-packages/pandas/io/common.py:873\u001b[0m, in \u001b[0;36mget_handle\u001b[0;34m(path_or_buf, mode, encoding, compression, memory_map, is_text, errors, storage_options)\u001b[0m\n\u001b[1;32m    868\u001b[0m \u001b[38;5;28;01melif\u001b[39;00m \u001b[38;5;28misinstance\u001b[39m(handle, \u001b[38;5;28mstr\u001b[39m):\n\u001b[1;32m    869\u001b[0m     \u001b[38;5;66;03m# Check whether the filename is to be opened in binary mode.\u001b[39;00m\n\u001b[1;32m    870\u001b[0m     \u001b[38;5;66;03m# Binary mode does not support 'encoding' and 'newline'.\u001b[39;00m\n\u001b[1;32m    871\u001b[0m     \u001b[38;5;28;01mif\u001b[39;00m ioargs\u001b[38;5;241m.\u001b[39mencoding \u001b[38;5;129;01mand\u001b[39;00m \u001b[38;5;124m\"\u001b[39m\u001b[38;5;124mb\u001b[39m\u001b[38;5;124m\"\u001b[39m \u001b[38;5;129;01mnot\u001b[39;00m \u001b[38;5;129;01min\u001b[39;00m ioargs\u001b[38;5;241m.\u001b[39mmode:\n\u001b[1;32m    872\u001b[0m         \u001b[38;5;66;03m# Encoding\u001b[39;00m\n\u001b[0;32m--> 873\u001b[0m         handle \u001b[38;5;241m=\u001b[39m \u001b[38;5;28;43mopen\u001b[39;49m\u001b[43m(\u001b[49m\n\u001b[1;32m    874\u001b[0m \u001b[43m            \u001b[49m\u001b[43mhandle\u001b[49m\u001b[43m,\u001b[49m\n\u001b[1;32m    875\u001b[0m \u001b[43m            \u001b[49m\u001b[43mioargs\u001b[49m\u001b[38;5;241;43m.\u001b[39;49m\u001b[43mmode\u001b[49m\u001b[43m,\u001b[49m\n\u001b[1;32m    876\u001b[0m \u001b[43m            \u001b[49m\u001b[43mencoding\u001b[49m\u001b[38;5;241;43m=\u001b[39;49m\u001b[43mioargs\u001b[49m\u001b[38;5;241;43m.\u001b[39;49m\u001b[43mencoding\u001b[49m\u001b[43m,\u001b[49m\n\u001b[1;32m    877\u001b[0m \u001b[43m            \u001b[49m\u001b[43merrors\u001b[49m\u001b[38;5;241;43m=\u001b[39;49m\u001b[43merrors\u001b[49m\u001b[43m,\u001b[49m\n\u001b[1;32m    878\u001b[0m \u001b[43m            \u001b[49m\u001b[43mnewline\u001b[49m\u001b[38;5;241;43m=\u001b[39;49m\u001b[38;5;124;43m\"\u001b[39;49m\u001b[38;5;124;43m\"\u001b[39;49m\u001b[43m,\u001b[49m\n\u001b[1;32m    879\u001b[0m \u001b[43m        \u001b[49m\u001b[43m)\u001b[49m\n\u001b[1;32m    880\u001b[0m     \u001b[38;5;28;01melse\u001b[39;00m:\n\u001b[1;32m    881\u001b[0m         \u001b[38;5;66;03m# Binary mode\u001b[39;00m\n\u001b[1;32m    882\u001b[0m         handle \u001b[38;5;241m=\u001b[39m \u001b[38;5;28mopen\u001b[39m(handle, ioargs\u001b[38;5;241m.\u001b[39mmode)\n",
            "\u001b[0;31mFileNotFoundError\u001b[0m: [Errno 44] No such file or directory: 'C:\\\\Users\\\\SAGNIK GHOSHAL\\\\Downloads\\\\Customers.csv'"
          ],
          "output_type": "error"
        }
      ],
      "execution_count": 2
    },
    {
      "id": "16035aa5-337e-4b4b-a492-057fd2475cb5",
      "cell_type": "markdown",
      "source": "# Create Heatmap of data",
      "metadata": {}
    },
    {
      "id": "8f4186bf-5099-42ce-a4da-757e2159202e",
      "cell_type": "code",
      "source": "df1=df.copy()\ndf1=df1.drop([\"TransactionID\",'CustomerName',\"TransactionDate\",\"SignupDate\"],axis=1)\ndf1[\"Region\"]=df1[\"Region\"].replace(sorted(df1[\"Region\"].unique()),range(1,df1[\"Region\"].unique().size+1))\ndf1[\"Category\"]=df1[\"Category\"].replace(sorted(df1[\"Category\"].unique()),range(1,df1[\"Category\"].unique().size+1))\ndf1[\"ProductName\"]=df1[\"ProductName\"].replace(sorted(df1[\"ProductName\"].unique()),range(1,df1[\"ProductName\"].unique().size+1))\ndf1['CustomerID']=[int(i[1:]) for i in df1['CustomerID']]\ndf1['ProductID']=[int(i[1:]) for i in df1['ProductID']]\nprint(df1.corr())\nsns.heatmap(df1.corr(),annot=True)\nplt.show()",
      "metadata": {
        "trusted": true
      },
      "outputs": [],
      "execution_count": null
    },
    {
      "id": "027603c2-b9a1-427a-a640-3bff419264a1",
      "cell_type": "markdown",
      "source": "# Different visualization for data analysis",
      "metadata": {}
    },
    {
      "id": "6bfd7201-640d-4f71-bda5-1ea4ecc9bf75",
      "cell_type": "code",
      "source": "df1=df.groupby(by=[\"TransactionMonth\",\"Category\"]).sum()\nprint(df1['TotalValue'])\ncate=df[\"Category\"].unique()\nn=len(cate)\nfor i in range(n):\n    plt.plot(sorted(df['TransactionMonth'].unique()),df1['TotalValue'][i::n],label=sorted(df[\"Category\"].unique())[i])\nplt.plot(sorted(df['TransactionMonth'].unique()),df.groupby(by=[\"TransactionMonth\"]).sum()['TotalValue']/n,label=\"Average\")\nplt.xlabel('TransactionMonth')\nplt.ylabel('TotalValue')\nplt.legend()\nplt.savefig(\"Zeotap/2.jpg\")\nplt.show()\nplt.bar(sorted(df['TransactionTime'].unique()),df.groupby(by=['TransactionTime']).sum()['TotalValue'])\nplt.xlabel('TransactionHour')\nplt.ylabel('TotalValue')\nplt.savefig(\"Zeotap/3.jpg\")\nplt.show()\ndf[\"SignupYear\"]=[str(i) for i in df[\"SignupYear\"]]\nprint(df.groupby(by=[\"SignupYear\"]).count())\nplt.bar(sorted(df['SignupYear'].unique()),df.groupby(by=[\"SignupYear\"]).size())\nplt.xlabel('SignupYear')\nplt.ylabel('SignupUserCount')\nplt.savefig(\"Zeotap/4.jpg\")\nplt.show()\ndf1=df.groupby(by=[\"SignupYear\",\"Category\"]).sum()\nfor i in range(n):\n    plt.plot(sorted(df['SignupYear'].unique()),df1['TotalValue'][i::n],label=sorted(df[\"Category\"].unique())[i])\nplt.plot(sorted(df['SignupYear'].unique()),df.groupby(by=[\"SignupYear\"]).sum()['TotalValue']/n,label=\"Average\")\nplt.xlabel('SignupYear')\nplt.ylabel('TotalValue')\nplt.legend()\nplt.savefig(\"Zeotap/5.jpg\")\nplt.show()\nplt.bar([i for i in cate],[df.where((df['SignupDate']>df['TransactionDate']) & (df['Category']==i)).dropna().size/df.where((df['SignupYear']=='2024') & (df['Category']==i)).dropna().size for i in cate])\nplt.ylabel('Pre_Signup_Customer_Ratio')\nplt.xlabel('Category')\nplt.savefig(\"Zeotap/6.jpg\")\nplt.show()\ndf1=df.groupby(by=[\"Region\",\"Category\"]).sum()\nprint(df1['TotalValue'])\nregi=df[\"Region\"].unique()\nn=len(regi)\nfor i in range(n):\n    plt.plot(sorted(df['Region'].unique()),df1['TotalValue'][i::n],label=sorted(df[\"Category\"].unique())[i])\nplt.plot(sorted(df['Region'].unique()),df.groupby(by=[\"Region\"]).sum()['TotalValue']/n,label=\"Average\")\nplt.xlabel('Region')\nplt.ylabel('TotalValue')\nplt.legend()\nplt.savefig(\"Zeotap/7.jpg\")\nplt.show()\nfor i in regi:\n    df1=df.where(df['Region']==i).dropna()\n    df1['CustomerID'] = [int(i[1:]) for i in df1['CustomerID']]\n    df2=df1[['TransactionMonth',\"CustomerID\"]].groupby(by=[\"CustomerID\"]).var()\n    print(df1['TransactionMonth'])\n    plt.plot(sorted(df1['CustomerID'].unique()),df2['TransactionMonth'],label=i)\nplt.xlabel('CustomerID')\nplt.ylabel('Month_Varience')\nplt.legend()\nplt.savefig(\"Zeotap/8.jpg\")\nplt.show\nfor i in cate:\n    df1=df.where(df['Category']==i).dropna()\n    df1['CustomerID'] = [int(i[1:]) for i in df1['CustomerID']]\n    df2=df1[['TransactionMonth',\"CustomerID\"]].groupby(by=[\"CustomerID\"]).var()\n    print(df1['TransactionMonth'])\n    plt.plot(sorted(df1['CustomerID'].unique()),df2['TransactionMonth'],label=i)\nplt.xlabel('CustomerID')\nplt.ylabel('Month_Varience')\nplt.legend()\nplt.savefig(\"Zeotap/9.jpg\")\nplt.show()\n",
      "metadata": {
        "trusted": true
      },
      "outputs": [],
      "execution_count": null
    }
  ]
}